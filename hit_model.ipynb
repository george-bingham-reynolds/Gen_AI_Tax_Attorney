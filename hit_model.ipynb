{
 "cells": [
  {
   "cell_type": "code",
   "execution_count": 1,
   "id": "5bdf269c-4bfa-4469-824b-2afe14d6658b",
   "metadata": {
    "tags": []
   },
   "outputs": [],
   "source": [
    "# RESTART KERNEL AFTER INSTALLATION\n",
    "!pip install pypdf"
   ]
  },
  {
   "cell_type": "code",
   "execution_count": 1,
   "id": "9847f596-bbca-4700-9a93-90829ed78157",
   "metadata": {
    "tags": []
   },
   "outputs": [],
   "source": [
    "# GET HELPER FUNCTIONS NEEDED FOR MATCHING ENGINE LATER IN NB\n",
    "import os\n",
    "import urllib.request\n",
    "\n",
    "if not os.path.exists(\"utils\"):\n",
    "    os.makedirs(\"utils\")\n",
    "\n",
    "url_prefix = \"https://raw.githubusercontent.com/GoogleCloudPlatform/generative-ai/main/language/use-cases/document-qa/utils\"\n",
    "files = [\"__init__.py\", \"matching_engine.py\", \"matching_engine_utils.py\"]\n",
    "\n",
    "for fname in files:\n",
    "    urllib.request.urlretrieve(f\"{url_prefix}/{fname}\", filename=f\"utils/{fname}\")"
   ]
  },
  {
   "cell_type": "code",
   "execution_count": 2,
   "id": "b57dd656-500c-4e24-8e4e-1442098c5091",
   "metadata": {
    "tags": []
   },
   "outputs": [
    {
     "name": "stderr",
     "output_type": "stream",
     "text": [
      "2024-04-25 23:10:19.355304: I tensorflow/core/platform/cpu_feature_guard.cc:182] This TensorFlow binary is optimized to use available CPU instructions in performance-critical operations.\n",
      "To enable the following instructions: AVX2 FMA, in other operations, rebuild TensorFlow with the appropriate compiler flags.\n"
     ]
    },
    {
     "name": "stdout",
     "output_type": "stream",
     "text": [
      "Vertex AI SDK version: 1.35.0\n",
      "LangChain version: 0.0.323\n"
     ]
    }
   ],
   "source": [
    "import json\n",
    "import textwrap\n",
    "\n",
    "# Utils\n",
    "import time\n",
    "import uuid\n",
    "from typing import List\n",
    "\n",
    "import numpy as np\n",
    "import vertexai\n",
    "\n",
    "# Vertex AI\n",
    "from google.cloud import aiplatform\n",
    "\n",
    "print(f\"Vertex AI SDK version: {aiplatform.__version__}\")\n",
    "\n",
    "# LangChain\n",
    "import langchain\n",
    "\n",
    "print(f\"LangChain version: {langchain.__version__}\")\n",
    "\n",
    "from typing_extensions import TypeAlias\n",
    "from langchain.chains import RetrievalQA\n",
    "from langchain.document_loaders import GCSDirectoryLoader\n",
    "from langchain.embeddings import VertexAIEmbeddings\n",
    "from langchain.llms import VertexAI\n",
    "from langchain.prompts import PromptTemplate\n",
    "from langchain.text_splitter import RecursiveCharacterTextSplitter\n",
    "\n",
    "\n",
    "# Import custom Matching Engine packages\n",
    "from utils.matching_engine import MatchingEngine\n",
    "from utils.matching_engine_utils import MatchingEngineUtils"
   ]
  },
  {
   "cell_type": "code",
   "execution_count": 3,
   "id": "b9bb4754-8987-489d-8e05-573c1a7a6dda",
   "metadata": {
    "tags": []
   },
   "outputs": [],
   "source": [
    "# DEFINED FUNCTION IN PY FILE TO CONVERT PDF TO TEXT\n",
    "from helpers import extract_full_pdf_text"
   ]
  },
  {
   "cell_type": "code",
   "execution_count": 4,
   "id": "fadad6b0-b46b-4c20-bffe-fddfeb21107f",
   "metadata": {
    "tags": []
   },
   "outputs": [],
   "source": [
    "PROJECT_ID = !(gcloud config get-value core/project)\n",
    "PROJECT_ID = PROJECT_ID[0]\n",
    "REGION = \"us-central1\" # CHANGE TO REGION YOU'VE BEEN USING\n",
    "\n",
    "# Initialize Vertex AI SDK\n",
    "vertexai.init(project=PROJECT_ID, location=REGION)"
   ]
  },
  {
   "cell_type": "code",
   "execution_count": 5,
   "id": "1f15fff4-99c9-4cd9-831a-ddd9c3c92e82",
   "metadata": {
    "tags": []
   },
   "outputs": [],
   "source": [
    "# Utility functions for Embeddings API with rate limiting\n",
    "def rate_limit(max_per_minute):\n",
    "    period = 60 / max_per_minute\n",
    "    print(\"Waiting\")\n",
    "    while True:\n",
    "        before = time.time()\n",
    "        yield\n",
    "        after = time.time()\n",
    "        elapsed = after - before\n",
    "        sleep_time = max(0, period - elapsed)\n",
    "        if sleep_time > 0:\n",
    "            print(\".\", end=\"\")\n",
    "            time.sleep(sleep_time)\n",
    "\n",
    "\n",
    "class CustomVertexAIEmbeddings(VertexAIEmbeddings):\n",
    "    requests_per_minute: int\n",
    "    num_instances_per_batch: int\n",
    "\n",
    "    # Overriding embed_documents method\n",
    "    def embed_documents(self, texts: List[str]):\n",
    "        limiter = rate_limit(self.requests_per_minute)\n",
    "        results = []\n",
    "        docs = list(texts)\n",
    "\n",
    "        while docs:\n",
    "            # Working in batches because the API accepts maximum 5\n",
    "            # documents per request to get embeddings\n",
    "            head, docs = (\n",
    "                docs[: self.num_instances_per_batch],\n",
    "                docs[self.num_instances_per_batch :],\n",
    "            )\n",
    "            chunk = self.client.get_embeddings(head)\n",
    "            results.extend(chunk)\n",
    "            next(limiter)\n",
    "\n",
    "        return [r.values for r in results]"
   ]
  },
  {
   "cell_type": "code",
   "execution_count": 6,
   "id": "e3e5a4ba-d6c9-41dd-b0e1-f58318527043",
   "metadata": {
    "tags": []
   },
   "outputs": [],
   "source": [
    "# VALUES NEED TO MATCH THOSE FROM TAX_RAG NB\n",
    "ME_REGION = \"us-central1\"\n",
    "ME_INDEX_NAME = \"tax-rag-me-index-test\"  \n",
    "ME_EMBEDDING_DIR = \"tax-rag-me-bucket-test\"  \n",
    "ME_DIMENSIONS = 768  "
   ]
  },
  {
   "cell_type": "code",
   "execution_count": 7,
   "id": "02010ec8-ffc9-4a8f-bbb0-51896cbf300c",
   "metadata": {
    "tags": []
   },
   "outputs": [],
   "source": [
    "# Text model instance integrated with langChain\n",
    "llm = VertexAI(\n",
    "    model_name=\"text-bison@001\",\n",
    "    max_output_tokens=1024,\n",
    "    temperature=0.2,\n",
    "    top_p=0.8,\n",
    "    top_k=40,\n",
    "    verbose=True,\n",
    ")\n",
    "\n",
    "# Embeddings API integrated with langChain\n",
    "EMBEDDING_QPM = 100\n",
    "EMBEDDING_NUM_BATCH = 5\n",
    "embeddings = CustomVertexAIEmbeddings(\n",
    "    requests_per_minute=EMBEDDING_QPM,\n",
    "    num_instances_per_batch=EMBEDDING_NUM_BATCH,\n",
    ")"
   ]
  },
  {
   "cell_type": "code",
   "execution_count": 8,
   "id": "57abadfe-77a0-4637-8450-ec07f0ed2480",
   "metadata": {
    "tags": []
   },
   "outputs": [],
   "source": [
    "mengine = MatchingEngineUtils(PROJECT_ID, ME_REGION, ME_INDEX_NAME)"
   ]
  },
  {
   "cell_type": "code",
   "execution_count": 9,
   "id": "590da090-5ee2-414f-a1d5-33f859b81a66",
   "metadata": {
    "tags": []
   },
   "outputs": [],
   "source": [
    "# SAVED MATCHING ENGINE INDEX/ENDPOINT IN LAST NB; WANT SAME TO HIT THE MODEL NOW\n",
    "%store -r ME_INDEX_ID ME_INDEX_ENDPOINT_ID"
   ]
  },
  {
   "cell_type": "code",
   "execution_count": 10,
   "id": "b5ee1a00-9b1e-4d77-9f93-2063380263cf",
   "metadata": {
    "tags": []
   },
   "outputs": [],
   "source": [
    "# INIT ME VECTOR STORE W/TEXT EMBEDDING MODEL\n",
    "\n",
    "me = MatchingEngine.from_components(\n",
    "    project_id=PROJECT_ID,\n",
    "    region=ME_REGION,\n",
    "    gcs_bucket_name=f\"gs://{ME_EMBEDDING_DIR}\".split(\"/\")[2],\n",
    "    embedding=embeddings,\n",
    "    index_id=ME_INDEX_ID,\n",
    "    endpoint_id=ME_INDEX_ENDPOINT_ID,\n",
    ")"
   ]
  },
  {
   "cell_type": "code",
   "execution_count": 11,
   "id": "8221ccce-3ff9-484a-8c9f-095836af1a0a",
   "metadata": {
    "tags": []
   },
   "outputs": [
    {
     "name": "stdout",
     "output_type": "stream",
     "text": [
      "Waiting\n"
     ]
    },
    {
     "data": {
      "text/plain": [
       "[Document(page_content=\"The invoices provided to Company's clients for the services it performs represent billing for implementation services and embedded advice. Company does not separately bill for advice and counsel. Taxpayer represents that more than 80% of Company's assets are used in its data migration and management business.\\n\\nTaxpayer sold all of its shares in Company on Date 2.\\n\\nLaw and Analysis\\n\\nSection 1202(a)(1) of the Code provides that in the case of a taxpayer other than a corporation, gross income does not include 50 percent of any gain from the sale or exchange of qualified small business stock held for more than 5 years.\\n\\nSection 1202(a)(3) provides that in the case of qualified small business stock acquired after February 17, 2009, and on or before September 27, 2010, the exclusion is 75 percent.\\n\\nSection 1202(a)(4) provides that in the case of qualified small business stock acquired after September 27, 2010, the exclusion is 100 percent.\", metadata={'source': 'irs_written_determinations/', 'document_name': '202342014.pdf', 'chunk': '667605', 'score': 0.8340412974357605}),\n",
       " Document(page_content=\"Company is an enterprise cloud application services software company, which provides solutions tailored to the operating functions and industry-specific challenges of their clients. The Company's employees possess technical skills and knowledge which allow for effective implementation and the quality of the Company's services. However, they are trained on one or more of the Company's proprietary service delivery processes and methodology packages that are unique to the Company and may not be utilized by the employees at any other employers that may provide the same or similar service. The Company can recruit and train new employees with the required technical skillset to perform substantially identical services using its methodology packages.\\n\\nLAW AND ANAYLSIS\\n\\nSection 1202(a) of the Code provides that gross income does not include 50 percent of any gain from the sale or exchange of qualified small business stock held for more than 5 years.\", metadata={'source': 'irs_written_determinations/', 'document_name': '202319013.pdf', 'chunk': '648432', 'score': 0.8328725099563599})]"
      ]
     },
     "execution_count": 11,
     "metadata": {},
     "output_type": "execute_result"
    }
   ],
   "source": [
    "# FIRST TEST WHETHER SEARCH FROM VECTOR STORE WORKS \n",
    "me.similarity_search(\"Our company is a software company with its primary offering being an online data aggregation platform. Users can issue their employees various proprietary surveys, which gauge such employees' satisfaction with their workplace environment. The platform aggregates and displays the responses through easy-to-read visual aides (such as a 1-100 ranged score). We know that software companies often qualify as 'qualified small businesses' under Section 1202, which allows for a nearly unlimited exclusion of capital gain on stock (qualified small business stock or 'QSBS') in the company. However, separate counsel has told us that a 'consulting' business may be excluded under Section 1202(e)(3). Our online platform provides general 'best practices' for certain ranges of survey responses, but does not tailor any of such advice for individual clients. Would we be disqualified as a consulting business for purposes of Section 1202/QSBS?\", k=2)\n",
    "\n"
   ]
  },
  {
   "cell_type": "markdown",
   "id": "26221b85-a74f-4fdf-8946-4ab43e53a223",
   "metadata": {},
   "source": [
    "THEN TEST SEARCH/LLM INTEGRATION THRU LANGCHAIN"
   ]
  },
  {
   "cell_type": "code",
   "execution_count": 12,
   "id": "23fc7826-aaea-4b4c-8eb2-9a28be6fdc02",
   "metadata": {},
   "outputs": [],
   "source": [
    "# Create chain to answer questions\n",
    "NUMBER_OF_RESULTS = 10\n",
    "SEARCH_DISTANCE_THRESHOLD = 0.6\n",
    "\n",
    "# Expose index to the retriever\n",
    "retriever = me.as_retriever(\n",
    "    search_type=\"similarity\",\n",
    "    search_kwargs={\n",
    "        \"k\": NUMBER_OF_RESULTS,\n",
    "        \"search_distance\": SEARCH_DISTANCE_THRESHOLD,\n",
    "    },\n",
    ")"
   ]
  },
  {
   "cell_type": "code",
   "execution_count": 14,
   "id": "8c3ccbec-940a-49f4-848c-a041be707117",
   "metadata": {
    "tags": []
   },
   "outputs": [],
   "source": [
    "## CUSTOMIZE DEFAULT RETRIEVAL PROMPT TEMPLATE\n",
    "template = \"\"\"SYSTEM: You are an intelligent assistant helping the users with their questions on research papers.\n",
    "\n",
    "Question: {question}\n",
    "\n",
    "Strictly Use the following pieces of context to answer the question at the end. Think step-by-step and then answer.\n",
    "Whenever you answer cite the document name of the context, a one to two sentence synopsis of the document and an explanation of how it is relevant to the question.\n",
    "If the context is empty, just say \"there does not seem to be a relevant document in our database.\"\n",
    "\n",
    "=============\n",
    "{context}\n",
    "=============\n",
    "\n",
    "Question: {question}\n",
    "Helpful Answer:\"\"\""
   ]
  },
  {
   "cell_type": "code",
   "execution_count": 15,
   "id": "8339338a-5785-4108-9329-6df207a5cc79",
   "metadata": {
    "tags": []
   },
   "outputs": [],
   "source": [
    "# CONFIGURE RETRIEVALQA CHAIN\n",
    "# Uses LLM to synthesize results from the search index.\n",
    "# Use Vertex PaLM Text API for LLM\n",
    "qa = RetrievalQA.from_chain_type(\n",
    "    llm=llm,\n",
    "    chain_type=\"stuff\",\n",
    "    retriever=retriever,\n",
    "    return_source_documents=True,\n",
    "    verbose=True,\n",
    "    chain_type_kwargs={\n",
    "        \"prompt\": PromptTemplate(\n",
    "            template=template,\n",
    "            input_variables=[\"context\", \"question\"],\n",
    "        ),\n",
    "    },\n",
    ")"
   ]
  },
  {
   "cell_type": "code",
   "execution_count": 16,
   "id": "59f8460e-fd38-46c8-993d-ccc70faccdfb",
   "metadata": {
    "tags": []
   },
   "outputs": [],
   "source": [
    "# # ENABLE VERBOSE LOGGING FOR DEBUGGING\n",
    "# # Enable for troubleshooting\n",
    "# # FOR HITTING MODEL DISPLAY PURPOSES COMMENTING OUT FOR NOW; UNCOMMENT IF YOU WANT TO DEBUG YOUR OWN\n",
    "# qa.combine_documents_chain.verbose = True\n",
    "# qa.combine_documents_chain.llm_chain.verbose = True\n",
    "# qa.combine_documents_chain.llm_chain.llm.verbose = True"
   ]
  },
  {
   "cell_type": "code",
   "execution_count": 17,
   "id": "0af72313-70cd-4363-8bba-1d7e1865b389",
   "metadata": {
    "tags": []
   },
   "outputs": [],
   "source": [
    "# FUNCTION TO FORMAT THE RESULT\n",
    "def formatter(result):\n",
    "    print(f\"Query: {result['query']}\")\n",
    "    print(\".\" * 80)\n",
    "    if \"source_documents\" in result.keys():\n",
    "        for idx, ref in enumerate(result[\"source_documents\"]):\n",
    "            print(\"-\" * 80)\n",
    "            print(f\"REFERENCE #{idx}\")\n",
    "            print(\"-\" * 80)\n",
    "            if \"score\" in ref.metadata:\n",
    "                print(f\"Matching Score: {ref.metadata['score']}\")\n",
    "            if \"source\" in ref.metadata:\n",
    "                print(f\"Document Source: {ref.metadata['source']}\")\n",
    "            if \"document_name\" in ref.metadata:\n",
    "                print(f\"Document Name: {ref.metadata['document_name']}\")\n",
    "            print(\".\" * 80)\n",
    "            print(f\"Content: \\n{wrap(ref.page_content)}\")\n",
    "    print(\".\" * 80)\n",
    "    print(f\"Response: {wrap(result['result'])}\")\n",
    "    print(\".\" * 80)\n",
    "\n",
    "\n",
    "def wrap(s):\n",
    "    return \"\\n\".join(textwrap.wrap(s, width=120, break_long_words=False))\n",
    "\n",
    "\n",
    "def ask(query, qa=qa, k=NUMBER_OF_RESULTS, search_distance=SEARCH_DISTANCE_THRESHOLD):\n",
    "    qa.retriever.search_kwargs[\"search_distance\"] = search_distance\n",
    "    qa.retriever.search_kwargs[\"k\"] = k\n",
    "    result = qa({\"query\": query})\n",
    "    return formatter(result)"
   ]
  },
  {
   "cell_type": "code",
   "execution_count": 18,
   "id": "3369e00a-29c7-43d9-b557-64b3e85c4628",
   "metadata": {
    "tags": []
   },
   "outputs": [
    {
     "name": "stdout",
     "output_type": "stream",
     "text": [
      "\n",
      "\n",
      "\u001b[1m> Entering new RetrievalQA chain...\u001b[0m\n",
      "Waiting\n",
      "\n",
      "\u001b[1m> Finished chain.\u001b[0m\n",
      "Query: Our company is a software company with its primary offering being an online data aggregation platform. Users can issue their employees various proprietary surveys, which gauge such employees' satisfaction with their workplace environment. The platform aggregates and displays the responses through easy-to-read visual aides (such as a 1-100 ranged score). We know that software companies often qualify as 'qualified small businesses' under Section 1202, which allows for a nearly unlimited exclusion of capital gain on stock (qualified small business stock or 'QSBS') in the company. However, separate counsel has told us that a 'consulting' business may be excluded under Section 1202(e)(3). Our online platform provides general 'best practices' for certain ranges of survey responses, but does not tailor any of such advice for individual clients. Would we be disqualified as a consulting business for purposes of Section 1202/QSBS?\n",
      "................................................................................\n",
      "--------------------------------------------------------------------------------\n",
      "REFERENCE #0\n",
      "--------------------------------------------------------------------------------\n",
      "Matching Score: 0.8340412974357605\n",
      "Document Source: irs_written_determinations/\n",
      "Document Name: 202342014.pdf\n",
      "................................................................................\n",
      "Content: \n",
      "The invoices provided to Company's clients for the services it performs represent billing for implementation services\n",
      "and embedded advice. Company does not separately bill for advice and counsel. Taxpayer represents that more than 80% of\n",
      "Company's assets are used in its data migration and management business.  Taxpayer sold all of its shares in Company on\n",
      "Date 2.  Law and Analysis  Section 1202(a)(1) of the Code provides that in the case of a taxpayer other than a\n",
      "corporation, gross income does not include 50 percent of any gain from the sale or exchange of qualified small business\n",
      "stock held for more than 5 years.  Section 1202(a)(3) provides that in the case of qualified small business stock\n",
      "acquired after February 17, 2009, and on or before September 27, 2010, the exclusion is 75 percent.  Section 1202(a)(4)\n",
      "provides that in the case of qualified small business stock acquired after September 27, 2010, the exclusion is 100\n",
      "percent.\n",
      "--------------------------------------------------------------------------------\n",
      "REFERENCE #1\n",
      "--------------------------------------------------------------------------------\n",
      "Matching Score: 0.8328725099563599\n",
      "Document Source: irs_written_determinations/\n",
      "Document Name: 202319013.pdf\n",
      "................................................................................\n",
      "Content: \n",
      "Company is an enterprise cloud application services software company, which provides solutions tailored to the operating\n",
      "functions and industry-specific challenges of their clients. The Company's employees possess technical skills and\n",
      "knowledge which allow for effective implementation and the quality of the Company's services. However, they are trained\n",
      "on one or more of the Company's proprietary service delivery processes and methodology packages that are unique to the\n",
      "Company and may not be utilized by the employees at any other employers that may provide the same or similar service.\n",
      "The Company can recruit and train new employees with the required technical skillset to perform substantially identical\n",
      "services using its methodology packages.  LAW AND ANAYLSIS  Section 1202(a) of the Code provides that gross income does\n",
      "not include 50 percent of any gain from the sale or exchange of qualified small business stock held for more than 5\n",
      "years.\n",
      "................................................................................\n",
      "Response: The first document is not relevant to the question. The second document is relevant to the question. However, it does\n",
      "not provide a clear answer.\n",
      "................................................................................\n"
     ]
    }
   ],
   "source": [
    "# TEST SAME QUESTION WITH ASK RAG MODEL \n",
    "ask(\"Our company is a software company with its primary offering being an online data aggregation platform. Users can issue their employees various proprietary surveys, which gauge such employees' satisfaction with their workplace environment. The platform aggregates and displays the responses through easy-to-read visual aides (such as a 1-100 ranged score). We know that software companies often qualify as 'qualified small businesses' under Section 1202, which allows for a nearly unlimited exclusion of capital gain on stock (qualified small business stock or 'QSBS') in the company. However, separate counsel has told us that a 'consulting' business may be excluded under Section 1202(e)(3). Our online platform provides general 'best practices' for certain ranges of survey responses, but does not tailor any of such advice for individual clients. Would we be disqualified as a consulting business for purposes of Section 1202/QSBS?\", k=2)\n",
    "\n"
   ]
  },
  {
   "cell_type": "markdown",
   "id": "094bca34-6439-45cc-9bf8-f23aef87b226",
   "metadata": {},
   "source": [
    "SO, LOOKING THROUGH THE MODEL'S ANSWER, WE CAN SEE THAT THE CORE ARCHITECTURE IS SOUND. THE VECTOR SEARCH FEEDS CONTEXT INTO THE LLM PROMPT, AND THE LLM CORRECTLY CITES THE RESULTS AND AVOIDS GIVING HALLUCINATORY ANSWERS IF IT IS NOT CLEAR ON HOW THEY ANSWER THE QUESTION.\n",
    "\n",
    "FURTHER, WHILE IT DECLINES GIVING A DEFINITIVE ANSWER, THE CASES THEMSELVES ARE RELEVANT PRECEDENT FOR THE QUESTION. IT IS NOT GIVING AS USEFUL OF AN ANSWER AS WE WOULD LIKE, BUT FOR A FIRST PASS AVOIDING GIVING AN INCORRECT ANSWER AND DISPLAYING RELEVANT SEARCH RESULTS IS HELPFUL AT LEAST.\n",
    "\n",
    "AS A NEXT STEP (WITH A BIGGER MODELING BUDGET) I WOULD BE INTERESTED IN USING LARGER CHUNKS OF THE PDFS; GIVEN THAT THE CASES ARE RELEVANT I'D BE INTERESTED TO SEE IF THE MODEL CAN GIVE MORE DEFINITIVE ANSWERS IF EXPOSED TO THE ENTIRETY (OR A LARGER FRACTION OF) THE WRITTERN DETERMINATIONS WITH MEANINGFUL PRECEDENCE"
   ]
  },
  {
   "cell_type": "markdown",
   "id": "b6b21677-ad78-4a77-9eb3-4db8ec61bbfd",
   "metadata": {},
   "source": [
    "AS A FINAL STEP, I ALSO BUILT-OUT A FIRST PASS FUNCTIONALITY FOR UPLOADING A PDF TO THE MODEL AND ASKING IT TO RETURN SIMILAR CASES. FURTHER ITERATIONS OF THE MODEL COULD INCORPORATE THIS AND MORE INVOLVED QUESTIONS ABOUT PRECEDENCE BASED ON THE CASE."
   ]
  },
  {
   "cell_type": "code",
   "execution_count": 19,
   "id": "d48085b0-fc99-42b7-80c4-312adcee92ec",
   "metadata": {},
   "outputs": [],
   "source": [
    "def pdf_similarity_search(filename):\n",
    "    return me.similarity_search(extract_full_pdf_text(filename)) # USE FUNCTION FROM HELPERS TO GET TEXT FROM FILE"
   ]
  },
  {
   "cell_type": "code",
   "execution_count": 20,
   "id": "f79125b1-dfb4-4277-aa56-0822b0588422",
   "metadata": {
    "tags": []
   },
   "outputs": [
    {
     "name": "stdout",
     "output_type": "stream",
     "text": [
      "Waiting\n"
     ]
    },
    {
     "data": {
      "text/plain": [
       "[Document(page_content='Dear --------------:\\n\\nThis is in response to a letter sent on your behalf by your representatives dated ----------- ------------. In the letter, your representatives requested a ruling on your behalf that Company is engaged in a qualified trade or business as defined in section 1202(e)(3) of the Internal Revenue Code (Code) for purposes of qualifying for the exclusion of gain under section 1202(a)(1) and is not engaged in a trade or business involving the performance of services in the field of consulting within the meaning of section 1202(e)(3)(A).\\n\\nFACTS\\n\\nCompany was formed in Year 1 and elected classification as an association to be taxed as a C corporation. It is owned by A individual shareholders, one of whom is Taxpayer. On Date 1, Company elected to be classified as an S corporation but Company had more than one class of stock in violation of section 1.361-1(l)1 of the Regulations. Thus, Taxpayer represents that its S corporation election was immediately invalid.', metadata={'source': 'irs_written_determinations/', 'document_name': '202342014.pdf', 'chunk': '667603', 'score': 0.8924081325531006}),\n",
       " Document(page_content='Department of the Treasury Washington, DC 20224\\n\\nInternal Revenue Service\\n\\nNumber: 202352009 Release Date: 12/29/2023\\n\\nThird Party Communication: None Date of Communication: Not Applicable\\n\\nIndex Number: 1202.00-00\\n\\nPerson To Contact: ---------------------, ID No. ----------------- Telephone Number: -------------------- Refer Reply To: CC:ITA:B04 PLR-107933-23 Date: October 03, 2023\\n\\n------------------ ----------------------------- --------------------------\\n\\nLEGEND\\n\\nTaxpayer = -----------------------------------------------\\n\\nCompany = -------------------------------------\\n\\nYear 1\\n\\n= -------\\n\\nDate 1\\n\\n= -----------------\\n\\nDear -------------:\\n\\nThis is in response to a letter sent on your behalf by your representatives dated ----------- -------. Taxpayer requests a ruling that Company was engaged in a qualified trade or business as defined in section 1202(e)(3) of the Internal Revenue Code (Code).\\n\\nFACTS', metadata={'source': 'irs_written_determinations/', 'document_name': '202352009.pdf', 'chunk': '675492', 'score': 0.8705695867538452}),\n",
       " Document(page_content='Dear -----------------------------------:\\n\\nThis ruling responds to your request dated Date 1. Specifically, you request a ruling that Predecessor and Company (collectively “Business”) was engaged in a qualified trade or business as defined in § 1202(e)(3) during the time Taxpayer held stock in Company sold in Month 1.\\n\\nFACTS\\n\\nPredecessor was formed as a State state law corporation in Year 1. In exchange for stock in Predecessor. Taxpayer and certain other shareholders contributed approximately $ a of cash to Predecessor on Date 2. Predecessor converted into a State state law limited liability company on Date 3 and became Company. The conversion was treated as a tax-free reorganization within the meaning of section 368(a). Company continued to be taxed as a C corporation for federal income tax\\n\\nPLR-111854-20\\n\\n2\\n\\npurposes. Business has never held aggregate gross assets (as defined under sections 1202(d)(1) and (2)) exceeding $50 million.', metadata={'source': 'irs_written_determinations/', 'document_name': '202114002.pdf', 'chunk': '570112', 'score': 0.859295666217804}),\n",
       " Document(page_content='=\\n\\n------\\n\\nYear 3\\n\\n=\\n\\n------\\n\\nDear -----------:\\n\\nThis letter responds to your request for a ruling that Company is a qualified trade or business as defined in § 1202(e)(3) of the Internal Revenue Code (Code) for purposes of qualifying for the exclusion of gain under § 1202(a).\\n\\nPLR-116074-20\\n\\n2\\n\\nFACTS\\n\\nTaxpayer has represented that the facts are as follows.', metadata={'source': 'irs_written_determinations/', 'document_name': '202144026.pdf', 'chunk': '589884', 'score': 0.8580853939056396})]"
      ]
     },
     "execution_count": 20,
     "metadata": {},
     "output_type": "execute_result"
    }
   ],
   "source": [
    "# VECTOR SEARCH\n",
    "pdf_similarity_search(\"example_case.pdf\") # A RENAMED PDF; EXPERIMENT WITH WHICHVER YOU PREFER FROM THE PULLED ONES"
   ]
  },
  {
   "cell_type": "code",
   "execution_count": 21,
   "id": "c8ad18cd-660c-42b3-96ad-25790a17eed9",
   "metadata": {},
   "outputs": [
    {
     "name": "stdout",
     "output_type": "stream",
     "text": [
      "\n",
      "\n",
      "\u001b[1m> Entering new RetrievalQA chain...\u001b[0m\n",
      "Waiting\n",
      "\n",
      "\u001b[1m> Finished chain.\u001b[0m\n",
      "Query: what is a case similar to   \n",
      "Internal Revenue Service  Department of the Treasury  \n",
      "Washington, DC 20224  \n",
      "Number: 202342013  \n",
      "Release Date: 10/20/2023  \n",
      "Index Number:  1202.00 -00 \n",
      " \n",
      "----------------------  \n",
      "----------------------------  \n",
      "-----------------------------  \n",
      " \n",
      " \n",
      " \n",
      " \n",
      " \n",
      "   \n",
      "Third Party Communication: None  \n",
      "Date of Communication: Not Applicable  \n",
      "Person To Contact:  \n",
      "---------------------- , ID No. -----------------  \n",
      "Telephone Number:  \n",
      "--------------------  \n",
      "Refer Reply To:  \n",
      "CC:ITA:08  \n",
      "PLR-120748 -22 \n",
      "Date: \n",
      "July 24, 2023  \n",
      " \n",
      " \n",
      " \n",
      "TY: -------  \n",
      " \n",
      "Legend:  \n",
      " \n",
      "Taxpayer = ------------------------------------------------  \n",
      "Company = ------------------------  \n",
      "Date 1 = -----------------------  \n",
      "Date 2 = ------------------  \n",
      "Year 1 = -------  \n",
      "A = -- \n",
      " \n",
      " \n",
      "Dear ----------------- : \n",
      " \n",
      "This is in response to a letter sent on your behalf by your representatives dated -----------\n",
      "------------ .  In the letter, your representatives requested a ruling on your behalf  \n",
      "that Company is engaged in a qualified trade or business as defined in section \n",
      "1202(e )(3) of the  Internal Revenue Code  (Code) for purposes of qualifying for the \n",
      "exclusion of gain under section  1202(a) (1) and is not engaged in a trade or business \n",
      "involving the performance of services in the field of consulting within the meaning of \n",
      "section 1202(e)(3)(A).  \n",
      "FACTS  \n",
      " \n",
      "Company was formed in Year 1 and elected classification as an association to b e taxed \n",
      "as a C corporation.  It is owned by A individual shareholders, one of whom is Taxpayer.  \n",
      "On Date 1, Company elected to be classified as an S corporation but Company had \n",
      "more than one class of stock in violation of section 1.361 -1(l)1 of the Regulat ions.  \n",
      "Thus, Taxpayer represents that its S corporation election was immediately invalid.    \n",
      "   \n",
      "PLR-120748 -22 \n",
      " 2 \n",
      "Company offers data migration and management services to businesses.  It does not \n",
      "sell software or technical equipment as part of the services it provides.  To und erstand \n",
      "its customers' needs, Company creates a transformation assessment plan.  Its service \n",
      "delivery teams determine an optimized cloud and data transformation roadmap based \n",
      "on assessment outcomes.  Company team members will integrate into the customer's \n",
      "team often on a full­time basis to orchestrate and troubleshoot the data migration and \n",
      "work to implement the data migration, as well as provide limited advice and counsel \n",
      "when working with a customer’s team.  Company also provides post -migration managed \n",
      "technical services, which include monitoring and resolving incidents.   \n",
      " \n",
      "The invoices provided to Company's clients for the services it performs represent billing \n",
      "for implementation services and embedded advice.  Company does not separately bill \n",
      "for advice a nd counsel.  Taxpayer represents that more than 80% of Company's assets \n",
      "are used in its data migration and management business.  \n",
      " \n",
      "Taxpayer sold all of its shares in Company on Date 2.  \n",
      " \n",
      "Law and Analysis  \n",
      "Section  1202(a)(1)  of the Code provides that in the cas e of a taxpayer other than a \n",
      "corporation, gross income does not include 50 percent of any gain from the sale or \n",
      "exchange of  qualified  small  business  stock  held for more than 5 years.  \n",
      "Section  1202(a)(3)  provides that in the case of  qualified  small  business  stock  acquired \n",
      "after February 17, 2009, and on or before September 27, 2010, the exclusion is 75 \n",
      "percent.  \n",
      "Section  1202(a)(4)  provides that in the case of  qualified  small  business  stock  acquired \n",
      "after September 27, 2010, the exclusion is 100 percent.  \n",
      "Section 1202(c)(1) provides that the term ‘qualified small business stock’ means any \n",
      "stock in a C corporation which is originally issued after the date of enactment in 1993 if \n",
      "as of the date of issuance, such corporation is a qualified small busin ess and except as \n",
      "otherwise provided, such stock is acquired by the shareholder at its original issue in \n",
      "exchange for money or other property (not including stock) or as compensation for \n",
      "services.  \n",
      "Section  1202(c)(2)  provides that stock in a corporation is not treated as  qualified small \n",
      "business stock  unless during substantially all of the taxpayer's holding period for such \n",
      "stock, the corporation meets the active business requirements of subsection (e) and the \n",
      "corporation is a C corporation.  \n",
      "Section  1202(e)( 1) provides that the active business requirements are met by a \n",
      "corporation for any period if during such period at least 80 percent (by value) of the   \n",
      "PLR-120748 -22 \n",
      " 3 \n",
      "assets of such corporation are used by such corporation in the active conduct of one or \n",
      "more qualified tra des or businesses, and such corporation is an eligible corporation.  \n",
      "Section  1202(e)(3) provides that a qualified trade or business means any trade or \n",
      "business other than (A) a trade or business involving the performance of services in the \n",
      "fields of health,  law, engineering, architecture, accounting, actuarial science, performing \n",
      "arts, consulting, athletics, financial services, brokerage services, or any trade or \n",
      "business where the principal asset of such trade or business is the reputation or skill of \n",
      "one o r more of its employee; (B)  any banking, insurance, financing, leasing, investing, \n",
      "or similar business; (C)  any farming business (including the business of raising or \n",
      "harvesting trees); (D)  any business involving the production or extraction of products of  \n",
      "a character with respect to which a deduction is allowable under section 613 or 613A , \n",
      "and (E) any business of operating a hotel, motel, restaurant, or similar business.  \n",
      "Company’s employees provide advice and counsel as part of the process of determining \n",
      "a client’s data management needs but the advice and counsel is ancillary to and supports \n",
      "the sale of the implementation work Company’s employees perform.  Company does not \n",
      "separately bill for advice and counsel, but only for its final product o f implementing data \n",
      "management solutions.  Therefore, Company does not engage a trade or business \n",
      "involving the performance of services in the field of consulting.  \n",
      "CONCLUSION  \n",
      " \n",
      "We conclude that for the purposes of section  1202(e)(3) , Company is engaged in a \n",
      "qualified trade or business as defined in section 1202(e)(3) and is not engaged in a \n",
      "trade or busin ess involving the performance of services in the field of consulting within \n",
      "the meaning of section 1202(e)(3)(A).  \n",
      "Except as expressly provided herein, no opinion is expressed or implied concerning the \n",
      "federal income tax consequences of any aspect of any tr ansaction or item discussed or \n",
      "referenced in this ruling including whether the other statutory and regulatory \n",
      "prerequisites for exclusion of capital gain under section 1202 were satisfied.  \n",
      "Specifically, no opinion is expressed or implied concerning whethe r the Company made \n",
      "an invalid S corporation election on Date 1.  However, this ruling is conditioned upon \n",
      "Taxpayer’s representation that the S corporation election on Date 1 was invalid.  \n",
      " \n",
      "This ruling is directed only to the taxpayer requesting it.  Section  6110(k)(3) of the Code \n",
      "provides that it may not be used or cited as precedent.  \n",
      " \n",
      "In accordance with the Power of Attorney on file with this office, a copy of this letter is \n",
      "being sent to your authorized representative.  \n",
      " \n",
      "A copy of this letter must be attach ed to any income tax return to which it is relevant. \n",
      "Alternatively, taxpayers filing their returns electronically may satisfy this requirement by   \n",
      "PLR-120748 -22 \n",
      " 4 \n",
      "attaching a statement to their return that provides the date and control number of the \n",
      "letter ruling.  \n",
      "The ruli ngs contained in this letter are based upon information and representations \n",
      "submitted by the taxpayer and accompanied by a penalty of perjury statement executed \n",
      "by an appropriate party.  While this office has not verified any of the material submitted \n",
      "in support of the request for rulings, it is subject to verification on examination.  \n",
      " \n",
      "       \n",
      "Sincerely,  \n",
      " \n",
      " \n",
      " \n",
      "Erika C. Reigle  \n",
      "Senior Technician Reviewer, Branch 8  \n",
      "(Income Tax and Accounting)  \n",
      " \n",
      " \n",
      " \n",
      "cc:  -------------------  \n",
      "-------------------------------  \n",
      " ?\n",
      "................................................................................\n",
      "--------------------------------------------------------------------------------\n",
      "REFERENCE #0\n",
      "--------------------------------------------------------------------------------\n",
      "Matching Score: 0.8885533809661865\n",
      "Document Source: irs_written_determinations/\n",
      "Document Name: 202342014.pdf\n",
      "................................................................................\n",
      "Content: \n",
      "Dear --------------:  This is in response to a letter sent on your behalf by your representatives dated -----------\n",
      "------------. In the letter, your representatives requested a ruling on your behalf that Company is engaged in a\n",
      "qualified trade or business as defined in section 1202(e)(3) of the Internal Revenue Code (Code) for purposes of\n",
      "qualifying for the exclusion of gain under section 1202(a)(1) and is not engaged in a trade or business involving the\n",
      "performance of services in the field of consulting within the meaning of section 1202(e)(3)(A).  FACTS  Company was\n",
      "formed in Year 1 and elected classification as an association to be taxed as a C corporation. It is owned by A\n",
      "individual shareholders, one of whom is Taxpayer. On Date 1, Company elected to be classified as an S corporation but\n",
      "Company had more than one class of stock in violation of section 1.361-1(l)1 of the Regulations. Thus, Taxpayer\n",
      "represents that its S corporation election was immediately invalid.\n",
      "--------------------------------------------------------------------------------\n",
      "REFERENCE #1\n",
      "--------------------------------------------------------------------------------\n",
      "Matching Score: 0.8631929159164429\n",
      "Document Source: irs_written_determinations/\n",
      "Document Name: 202352009.pdf\n",
      "................................................................................\n",
      "Content: \n",
      "Department of the Treasury Washington, DC 20224  Internal Revenue Service  Number: 202352009 Release Date: 12/29/2023\n",
      "Third Party Communication: None Date of Communication: Not Applicable  Index Number: 1202.00-00  Person To Contact:\n",
      "---------------------, ID No. ----------------- Telephone Number: -------------------- Refer Reply To: CC:ITA:B04\n",
      "PLR-107933-23 Date: October 03, 2023  ------------------ ----------------------------- --------------------------\n",
      "LEGEND  Taxpayer = -----------------------------------------------  Company = -------------------------------------\n",
      "Year 1  = -------  Date 1  = -----------------  Dear -------------:  This is in response to a letter sent on your behalf\n",
      "by your representatives dated ----------- -------. Taxpayer requests a ruling that Company was engaged in a qualified\n",
      "trade or business as defined in section 1202(e)(3) of the Internal Revenue Code (Code).  FACTS\n",
      "--------------------------------------------------------------------------------\n",
      "REFERENCE #2\n",
      "--------------------------------------------------------------------------------\n",
      "Matching Score: 0.8599585294723511\n",
      "Document Source: irs_written_determinations/\n",
      "Document Name: 202114002.pdf\n",
      "................................................................................\n",
      "Content: \n",
      "Dear -----------------------------------:  This ruling responds to your request dated Date 1. Specifically, you request\n",
      "a ruling that Predecessor and Company (collectively “Business”) was engaged in a qualified trade or business as defined\n",
      "in § 1202(e)(3) during the time Taxpayer held stock in Company sold in Month 1.  FACTS  Predecessor was formed as a\n",
      "State state law corporation in Year 1. In exchange for stock in Predecessor. Taxpayer and certain other shareholders\n",
      "contributed approximately $ a of cash to Predecessor on Date 2. Predecessor converted into a State state law limited\n",
      "liability company on Date 3 and became Company. The conversion was treated as a tax-free reorganization within the\n",
      "meaning of section 368(a). Company continued to be taxed as a C corporation for federal income tax  PLR-111854-20  2\n",
      "purposes. Business has never held aggregate gross assets (as defined under sections 1202(d)(1) and (2)) exceeding $50\n",
      "million.\n",
      "--------------------------------------------------------------------------------\n",
      "REFERENCE #3\n",
      "--------------------------------------------------------------------------------\n",
      "Matching Score: 0.8533441424369812\n",
      "Document Source: irs_written_determinations/\n",
      "Document Name: 202144026.pdf\n",
      "................................................................................\n",
      "Content: \n",
      "=  ------  Year 3  =  ------  Dear -----------:  This letter responds to your request for a ruling that Company is a\n",
      "qualified trade or business as defined in § 1202(e)(3) of the Internal Revenue Code (Code) for purposes of qualifying\n",
      "for the exclusion of gain under § 1202(a).  PLR-116074-20  2  FACTS  Taxpayer has represented that the facts are as\n",
      "follows.\n",
      "--------------------------------------------------------------------------------\n",
      "REFERENCE #4\n",
      "--------------------------------------------------------------------------------\n",
      "Matching Score: 0.8507442474365234\n",
      "Document Source: irs_written_determinations/\n",
      "Document Name: 201436001.pdf\n",
      "................................................................................\n",
      "Content: \n",
      "Taxpayers disposed of some or all of their stock in Company on or about Date.  PLR-102304-14  3  health industry within\n",
      "the meaning of § 1202(e)(3). Neither are Company’s business activities within any of the prohibited categories set forth\n",
      "in § 1202(e)(3).  RULING  Based on the facts submitted we rule that Company is engaged in a qualified trade or business\n",
      "under § 1202(e)(3) notwithstanding the proximity of its business activities to the field of health.  CAVEATS  Except as\n",
      "expressly provided, we do not express or imply any opinion concerning the tax consequences of any aspect of any\n",
      "transaction or item discussed or referenced in this letter. In particular, we do not rule on whether Taxpayers meet\n",
      "other qualifications under § 1202, such as the holding period requirement or the asset usage requirement.  This ruling\n",
      "is directed only to the taxpayer requesting it. Section 6110(k)(3) of the Code provides that it may not be used or cited\n",
      "as precedent.\n",
      "--------------------------------------------------------------------------------\n",
      "REFERENCE #5\n",
      "--------------------------------------------------------------------------------\n",
      "Matching Score: 0.8401297330856323\n",
      "Document Source: irs_written_determinations/\n",
      "Document Name: 202319013.pdf\n",
      "................................................................................\n",
      "Content: \n",
      "Except as expressly provided herein, no opinion is expressed or implied concerning the federal income tax consequences\n",
      "of any aspect of any transaction or item discussed or referenced in this ruling including whether the other statutory\n",
      "and regulatory prerequisites for exclusion of capital gain under section 1202 were satisfied. Specifically, no opinion\n",
      "is expressed or implied concerning whether Company meets the requirement under section 1202(e)(1)(A) that at least 80\n",
      "percent (by value) of the assets of such corporation are used by such corporation in the active conduct of 1 or more\n",
      "qualified trades or businesses or whether the Company is engaged in a trade or business involving the performance of\n",
      "services in the field of consulting as defined in section 1202(e)(3)(A).  This ruling is directed only to the taxpayer\n",
      "requesting it. Section 6110(k)(3) of the Code provides that it may not be used or cited as precedent.\n",
      "--------------------------------------------------------------------------------\n",
      "REFERENCE #6\n",
      "--------------------------------------------------------------------------------\n",
      "Matching Score: 0.8326928019523621\n",
      "Document Source: irs_written_determinations/\n",
      "Document Name: 202210004.pdf\n",
      "................................................................................\n",
      "Content: \n",
      "= ---------------------------------------------- = ---------------------------- = --------------------- =\n",
      "---------------------------------------------- = ------------------------ = ------------------------- =\n",
      "--------------------------- = --------------------------- = ------ = ------ = -----  Dear -------------------:  This is\n",
      "in response to your letter dated May 11, 2021, submitted by your authorized representative, supplemented by\n",
      "correspondence dated October 19, 2021, and November 29, 2021, on behalf of Company A, in which you request rulings under\n",
      "sections 402(e) and 402(j) of the Internal Revenue Code.  PLR-112806-21  2  The following facts and representations have\n",
      "been submitted under penalties of perjury in support of the rulings requested:\n",
      "--------------------------------------------------------------------------------\n",
      "REFERENCE #7\n",
      "--------------------------------------------------------------------------------\n",
      "Matching Score: 0.8325916528701782\n",
      "Document Source: irs_written_determinations/\n",
      "Document Name: 201636003.pdf\n",
      "................................................................................\n",
      "Content: \n",
      "Therefore, based on the facts and representations submitted, we rule that the Corporation stock meets the definition of\n",
      "qualified small business stock under §§§ 1202(c), 1202(f) and 1202(h).  Except as expressly provided herein, no opinion\n",
      "is expressed or implied concerning the tax consequences of any aspect of any transaction or item discussed or referenced\n",
      "in this letter. Specifically, no opinion is expressed or implied concerning 1) the qualification of the Corporation\n",
      "under § 1202, 2) whether Corporation meets the active business requirements of § 1202(e), and 3) whether any conversion\n",
      "or name change since the time of the original issuance of Name 1 stock qualify as a § 368(a)(1)(F) reorganization.  This\n",
      "ruling is directed only to the taxpayer requesting it. Section 6110(k)(3) of the Code provides that it may not be used\n",
      "or cited as precedent.  In accordance with the Power of Attorney on file with this office, a copy of this letter is\n",
      "being sent to your authorized representative.\n",
      "--------------------------------------------------------------------------------\n",
      "REFERENCE #8\n",
      "--------------------------------------------------------------------------------\n",
      "Matching Score: 0.8323312997817993\n",
      "Document Source: irs_written_determinations/\n",
      "Document Name: 202319013.pdf\n",
      "................................................................................\n",
      "Content: \n",
      "Dear --------------:  This is in response to a letter sent on your behalf by your representatives dated -----------\n",
      "---------------------------. In the letter, your representatives requested on your behalf a ruling that Company was not\n",
      "engaged in a trade or business where the principal asset of such trade or business is the reputation or skill of 1 or\n",
      "more employees within the meaning of section 1202(e)(3)(A) of the Internal Revenue Code (Code) for purposes of\n",
      "qualifying for the exclusion of gain under section 1202(a)(1).  FACTS  Taxpayer Husband founded the Company on Date 1 as\n",
      "a C corporation. On the date of its formation, the Company issued A shares constituting B% of the Company’s stock to\n",
      "Taxpayer Husband in exchange for a $B capital contribution. Taxpayer Husband  PLR-118594-22  2\n",
      "--------------------------------------------------------------------------------\n",
      "REFERENCE #9\n",
      "--------------------------------------------------------------------------------\n",
      "Matching Score: 0.831535816192627\n",
      "Document Source: irs_written_determinations/\n",
      "Document Name: 201603014.pdf\n",
      "................................................................................\n",
      "Content: \n",
      "Therefore, based on the facts and representations submitted, we rule that the status of the original issue common stock\n",
      "of Corporation as qualified small business corporation stock held by the Initial Stockholders (if the stock is qualified\n",
      "small business stock under § 1202) is unaffected by the conversion.  Except as expressly provided herein, no opinion is\n",
      "expressed or implied concerning the tax consequences of any aspect of any transaction or item discussed or referenced in\n",
      "this letter. Specifically, no opinion is expressed or implied concerning i) the qualification of Corporation under §\n",
      "1202, ii) the qualification of Corporation’s stock as qualified small business stock under § 1202, or iii) whether the\n",
      "conversion qualifies as a § 368(a)(1)(F) reorganization.  PLR-112627-15  3  This ruling is directed only to the taxpayer\n",
      "requesting it. Section 6110(k)(3) of the Code provides that it may not be used or cited as precedent.  Sincerely,\n",
      "................................................................................\n",
      "Response: The case is similar to PLR-120748-22. In both cases, the taxpayer is seeking a ruling that their company is engaged in a\n",
      "qualified trade or business as defined in section 1202(e)(3) of the Internal Revenue Code (Code) for purposes of\n",
      "qualifying for the exclusion of gain under section 1202(a)(1). In both cases, the company provides data migration and\n",
      "management services to businesses. In both cases, the taxpayer represents that more than 80% of the company's assets are\n",
      "used in its data migration and management business. In both cases, the company does not separately bill for advice and\n",
      "counsel. In both cases, the taxpayer represents that the company is not engaged in a trade or business involving the\n",
      "performance of services in the field of consulting. In both cases, the IRS rules that the company is engaged in a\n",
      "qualified trade or business as defined in section 1202(e)(3) and is not engaged in a trade or business involving the\n",
      "performance of services in the field of consulting.\n",
      "................................................................................\n"
     ]
    }
   ],
   "source": [
    "# FULL MODEL ASK\n",
    "ask(f\"what is a case similar to {extract_full_pdf_text('example_case.pdf')}?\")"
   ]
  },
  {
   "cell_type": "markdown",
   "id": "6d77e81d-9fbb-41aa-b085-f3532be820ba",
   "metadata": {},
   "source": [
    "SO, WE CAN SEE THE PDF INTEGRATION WORKS WELL. THE MODEL FOUND THE CORRECT CASE (I.E. THE EXACT ONE WE USED FOR TESTING PURPOSES) AND ADEQUATELY DESCRIBED WHY THEY ARE RELEVANT TO EACH OTHER. WHILE WE FED IT AN EASY ONE (I.E. ONE ALREADY IN OUR DB), THE FUNCTIONALTY IS CORRECT FOR MORE COMPLICATED EXAMPLES LATER."
   ]
  },
  {
   "cell_type": "code",
   "execution_count": null,
   "id": "bda74483-7369-41b7-b447-15b5d7e5ca2f",
   "metadata": {},
   "outputs": [],
   "source": []
  }
 ],
 "metadata": {
  "environment": {
   "kernel": "conda-root-py",
   "name": "workbench-notebooks.m119",
   "type": "gcloud",
   "uri": "us-docker.pkg.dev/deeplearning-platform-release/gcr.io/workbench-notebooks:m119"
  },
  "kernelspec": {
   "display_name": "Python 3 (ipykernel) (Local)",
   "language": "python",
   "name": "conda-root-py"
  },
  "language_info": {
   "codemirror_mode": {
    "name": "ipython",
    "version": 3
   },
   "file_extension": ".py",
   "mimetype": "text/x-python",
   "name": "python",
   "nbconvert_exporter": "python",
   "pygments_lexer": "ipython3",
   "version": "3.10.14"
  }
 },
 "nbformat": 4,
 "nbformat_minor": 5
}
